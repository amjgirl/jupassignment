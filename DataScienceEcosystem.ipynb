{
 "cells": [
  {
   "cell_type": "markdown",
   "id": "a5f405be",
   "metadata": {},
   "source": [
    "# Data Science Tools and Ecosystem"
   ]
  },
  {
   "cell_type": "markdown",
   "id": "adfe5ea6",
   "metadata": {},
   "source": [
    "## Author\n",
    "Angela Jones\n"
   ]
  },
  {
   "cell_type": "markdown",
   "id": "a272ae22",
   "metadata": {},
   "source": [
    "In this notebook, Data Science Tools and Ecosystem are summarized."
   ]
  },
  {
   "cell_type": "markdown",
   "id": "212d8f0f",
   "metadata": {},
   "source": [
    "**Objectives:**\n",
    "* Popular Languages of Data Science\n",
    "* Data Sets\n",
    "* GitHub\n",
    "* Jupyter Notebooks"
   ]
  },
  {
   "cell_type": "markdown",
   "id": "ec10585b",
   "metadata": {},
   "source": [
    "Some of the popular languages that Data Scientists use are:\n",
    "1.  R\n",
    "2.  Python\n",
    "3.  SQL\n",
    "4. Java"
   ]
  },
  {
   "cell_type": "markdown",
   "id": "51a33329",
   "metadata": {},
   "source": [
    "Some of the commonly used libraries used by Data Scientists in Python (include):\n",
    "1.  Pandas\n",
    "2.  NumPy\n",
    "3.  Matplotlib\n",
    "4.  Seaborn\n",
    "5.  Scikit-learn"
   ]
  },
  {
   "cell_type": "markdown",
   "id": "ca0f8605",
   "metadata": {},
   "source": [
    "| Data Science Tools |\n",
    "|--------------------|\n",
    "| Jupyter Notebook  |\n",
    "| Anaconda Navigator|\n",
    "| RStudio           |\n"
   ]
  },
  {
   "cell_type": "markdown",
   "id": "0b542310",
   "metadata": {},
   "source": [
    "### Below are few examples of evaluating arithmetic expressions in Python"
   ]
  },
  {
   "cell_type": "code",
   "execution_count": 1,
   "id": "81d6bcf4",
   "metadata": {},
   "outputs": [
    {
     "data": {
      "text/plain": [
       "17"
      ]
     },
     "execution_count": 1,
     "metadata": {},
     "output_type": "execute_result"
    }
   ],
   "source": [
    "#This is a simple arithmetic expression to mutiply then add integers.\n",
    "(3*4)+5"
   ]
  },
  {
   "cell_type": "code",
   "execution_count": 3,
   "id": "8b36a70d",
   "metadata": {},
   "outputs": [
    {
     "data": {
      "text/plain": [
       "3.3333333333333335"
      ]
     },
     "execution_count": 3,
     "metadata": {},
     "output_type": "execute_result"
    }
   ],
   "source": [
    "#This will convert 200 minutes to hours by dividing by 60\n",
    "200 / 60"
   ]
  }
 ],
 "metadata": {
  "kernelspec": {
   "display_name": "Python 3 (ipykernel)",
   "language": "python",
   "name": "python3"
  },
  "language_info": {
   "codemirror_mode": {
    "name": "ipython",
    "version": 3
   },
   "file_extension": ".py",
   "mimetype": "text/x-python",
   "name": "python",
   "nbconvert_exporter": "python",
   "pygments_lexer": "ipython3",
   "version": "3.11.4"
  }
 },
 "nbformat": 4,
 "nbformat_minor": 5
}
